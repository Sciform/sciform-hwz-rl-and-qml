{
  "nbformat": 4,
  "nbformat_minor": 0,
  "metadata": {
    "colab": {
      "provenance": [],
      "authorship_tag": "ABX9TyM7rwOiZeR1gWIQl+AXWV0Z",
      "include_colab_link": true
    },
    "kernelspec": {
      "name": "python3",
      "display_name": "Python 3"
    },
    "language_info": {
      "name": "python"
    }
  },
  "cells": [
    {
      "cell_type": "markdown",
      "metadata": {
        "id": "view-in-github",
        "colab_type": "text"
      },
      "source": [
        "<a href=\"https://colab.research.google.com/github/Sciform/sciform-hwz-rl-and-qml/blob/main/quantum_computing_basics.ipynb\" target=\"_parent\"><img src=\"https://colab.research.google.com/assets/colab-badge.svg\" alt=\"Open In Colab\"/></a>"
      ]
    },
    {
      "cell_type": "code",
      "execution_count": 15,
      "metadata": {
        "colab": {
          "base_uri": "https://localhost:8080/"
        },
        "id": "BfRomzIUljf0",
        "outputId": "7a069bb3-8efa-4c64-c28f-22f2cc1ed91a"
      },
      "outputs": [
        {
          "output_type": "stream",
          "name": "stdout",
          "text": [
            "Requirement already satisfied: qiskit in /usr/local/lib/python3.11/dist-packages (2.0.2)\n",
            "Requirement already satisfied: rustworkx>=0.15.0 in /usr/local/lib/python3.11/dist-packages (from qiskit) (0.16.0)\n",
            "Requirement already satisfied: numpy<3,>=1.17 in /usr/local/lib/python3.11/dist-packages (from qiskit) (2.0.2)\n",
            "Requirement already satisfied: scipy>=1.5 in /usr/local/lib/python3.11/dist-packages (from qiskit) (1.15.3)\n",
            "Requirement already satisfied: sympy>=1.3 in /usr/local/lib/python3.11/dist-packages (from qiskit) (1.13.1)\n",
            "Requirement already satisfied: dill>=0.3 in /usr/local/lib/python3.11/dist-packages (from qiskit) (0.3.7)\n",
            "Requirement already satisfied: python-dateutil>=2.8.0 in /usr/local/lib/python3.11/dist-packages (from qiskit) (2.9.0.post0)\n",
            "Requirement already satisfied: stevedore>=3.0.0 in /usr/local/lib/python3.11/dist-packages (from qiskit) (5.4.1)\n",
            "Requirement already satisfied: typing-extensions in /usr/local/lib/python3.11/dist-packages (from qiskit) (4.14.0)\n",
            "Requirement already satisfied: symengine<0.14,>=0.11 in /usr/local/lib/python3.11/dist-packages (from qiskit) (0.13.0)\n",
            "Requirement already satisfied: six>=1.5 in /usr/local/lib/python3.11/dist-packages (from python-dateutil>=2.8.0->qiskit) (1.17.0)\n",
            "Requirement already satisfied: pbr>=2.0.0 in /usr/local/lib/python3.11/dist-packages (from stevedore>=3.0.0->qiskit) (6.1.1)\n",
            "Requirement already satisfied: mpmath<1.4,>=1.1.0 in /usr/local/lib/python3.11/dist-packages (from sympy>=1.3->qiskit) (1.3.0)\n",
            "Requirement already satisfied: setuptools in /usr/local/lib/python3.11/dist-packages (from pbr>=2.0.0->stevedore>=3.0.0->qiskit) (75.2.0)\n",
            "Requirement already satisfied: qiskit[visualization] in /usr/local/lib/python3.11/dist-packages (2.0.2)\n",
            "Requirement already satisfied: rustworkx>=0.15.0 in /usr/local/lib/python3.11/dist-packages (from qiskit[visualization]) (0.16.0)\n",
            "Requirement already satisfied: numpy<3,>=1.17 in /usr/local/lib/python3.11/dist-packages (from qiskit[visualization]) (2.0.2)\n",
            "Requirement already satisfied: scipy>=1.5 in /usr/local/lib/python3.11/dist-packages (from qiskit[visualization]) (1.15.3)\n",
            "Requirement already satisfied: sympy>=1.3 in /usr/local/lib/python3.11/dist-packages (from qiskit[visualization]) (1.13.1)\n",
            "Requirement already satisfied: dill>=0.3 in /usr/local/lib/python3.11/dist-packages (from qiskit[visualization]) (0.3.7)\n",
            "Requirement already satisfied: python-dateutil>=2.8.0 in /usr/local/lib/python3.11/dist-packages (from qiskit[visualization]) (2.9.0.post0)\n",
            "Requirement already satisfied: stevedore>=3.0.0 in /usr/local/lib/python3.11/dist-packages (from qiskit[visualization]) (5.4.1)\n",
            "Requirement already satisfied: typing-extensions in /usr/local/lib/python3.11/dist-packages (from qiskit[visualization]) (4.14.0)\n",
            "Requirement already satisfied: symengine<0.14,>=0.11 in /usr/local/lib/python3.11/dist-packages (from qiskit[visualization]) (0.13.0)\n",
            "Requirement already satisfied: matplotlib>=3.3 in /usr/local/lib/python3.11/dist-packages (from qiskit[visualization]) (3.10.0)\n",
            "Requirement already satisfied: pydot in /usr/local/lib/python3.11/dist-packages (from qiskit[visualization]) (3.0.4)\n",
            "Requirement already satisfied: Pillow>=4.2.1 in /usr/local/lib/python3.11/dist-packages (from qiskit[visualization]) (11.2.1)\n",
            "Requirement already satisfied: pylatexenc>=1.4 in /usr/local/lib/python3.11/dist-packages (from qiskit[visualization]) (2.10)\n",
            "Requirement already satisfied: seaborn>=0.9.0 in /usr/local/lib/python3.11/dist-packages (from qiskit[visualization]) (0.13.2)\n",
            "Requirement already satisfied: contourpy>=1.0.1 in /usr/local/lib/python3.11/dist-packages (from matplotlib>=3.3->qiskit[visualization]) (1.3.2)\n",
            "Requirement already satisfied: cycler>=0.10 in /usr/local/lib/python3.11/dist-packages (from matplotlib>=3.3->qiskit[visualization]) (0.12.1)\n",
            "Requirement already satisfied: fonttools>=4.22.0 in /usr/local/lib/python3.11/dist-packages (from matplotlib>=3.3->qiskit[visualization]) (4.58.1)\n",
            "Requirement already satisfied: kiwisolver>=1.3.1 in /usr/local/lib/python3.11/dist-packages (from matplotlib>=3.3->qiskit[visualization]) (1.4.8)\n",
            "Requirement already satisfied: packaging>=20.0 in /usr/local/lib/python3.11/dist-packages (from matplotlib>=3.3->qiskit[visualization]) (24.2)\n",
            "Requirement already satisfied: pyparsing>=2.3.1 in /usr/local/lib/python3.11/dist-packages (from matplotlib>=3.3->qiskit[visualization]) (3.2.3)\n",
            "Requirement already satisfied: six>=1.5 in /usr/local/lib/python3.11/dist-packages (from python-dateutil>=2.8.0->qiskit[visualization]) (1.17.0)\n",
            "Requirement already satisfied: pandas>=1.2 in /usr/local/lib/python3.11/dist-packages (from seaborn>=0.9.0->qiskit[visualization]) (2.2.2)\n",
            "Requirement already satisfied: pbr>=2.0.0 in /usr/local/lib/python3.11/dist-packages (from stevedore>=3.0.0->qiskit[visualization]) (6.1.1)\n",
            "Requirement already satisfied: mpmath<1.4,>=1.1.0 in /usr/local/lib/python3.11/dist-packages (from sympy>=1.3->qiskit[visualization]) (1.3.0)\n",
            "Requirement already satisfied: pytz>=2020.1 in /usr/local/lib/python3.11/dist-packages (from pandas>=1.2->seaborn>=0.9.0->qiskit[visualization]) (2025.2)\n",
            "Requirement already satisfied: tzdata>=2022.7 in /usr/local/lib/python3.11/dist-packages (from pandas>=1.2->seaborn>=0.9.0->qiskit[visualization]) (2025.2)\n",
            "Requirement already satisfied: setuptools in /usr/local/lib/python3.11/dist-packages (from pbr>=2.0.0->stevedore>=3.0.0->qiskit[visualization]) (75.2.0)\n",
            "Requirement already satisfied: qiskit_aer in /usr/local/lib/python3.11/dist-packages (0.17.1)\n",
            "Requirement already satisfied: qiskit>=1.1.0 in /usr/local/lib/python3.11/dist-packages (from qiskit_aer) (2.0.2)\n",
            "Requirement already satisfied: numpy>=1.16.3 in /usr/local/lib/python3.11/dist-packages (from qiskit_aer) (2.0.2)\n",
            "Requirement already satisfied: scipy>=1.0 in /usr/local/lib/python3.11/dist-packages (from qiskit_aer) (1.15.3)\n",
            "Requirement already satisfied: psutil>=5 in /usr/local/lib/python3.11/dist-packages (from qiskit_aer) (5.9.5)\n",
            "Requirement already satisfied: python-dateutil>=2.8.0 in /usr/local/lib/python3.11/dist-packages (from qiskit_aer) (2.9.0.post0)\n",
            "Requirement already satisfied: six>=1.5 in /usr/local/lib/python3.11/dist-packages (from python-dateutil>=2.8.0->qiskit_aer) (1.17.0)\n",
            "Requirement already satisfied: rustworkx>=0.15.0 in /usr/local/lib/python3.11/dist-packages (from qiskit>=1.1.0->qiskit_aer) (0.16.0)\n",
            "Requirement already satisfied: sympy>=1.3 in /usr/local/lib/python3.11/dist-packages (from qiskit>=1.1.0->qiskit_aer) (1.13.1)\n",
            "Requirement already satisfied: dill>=0.3 in /usr/local/lib/python3.11/dist-packages (from qiskit>=1.1.0->qiskit_aer) (0.3.7)\n",
            "Requirement already satisfied: stevedore>=3.0.0 in /usr/local/lib/python3.11/dist-packages (from qiskit>=1.1.0->qiskit_aer) (5.4.1)\n",
            "Requirement already satisfied: typing-extensions in /usr/local/lib/python3.11/dist-packages (from qiskit>=1.1.0->qiskit_aer) (4.14.0)\n",
            "Requirement already satisfied: symengine<0.14,>=0.11 in /usr/local/lib/python3.11/dist-packages (from qiskit>=1.1.0->qiskit_aer) (0.13.0)\n",
            "Requirement already satisfied: pbr>=2.0.0 in /usr/local/lib/python3.11/dist-packages (from stevedore>=3.0.0->qiskit>=1.1.0->qiskit_aer) (6.1.1)\n",
            "Requirement already satisfied: mpmath<1.4,>=1.1.0 in /usr/local/lib/python3.11/dist-packages (from sympy>=1.3->qiskit>=1.1.0->qiskit_aer) (1.3.0)\n",
            "Requirement already satisfied: setuptools in /usr/local/lib/python3.11/dist-packages (from pbr>=2.0.0->stevedore>=3.0.0->qiskit>=1.1.0->qiskit_aer) (75.2.0)\n"
          ]
        }
      ],
      "source": [
        "!pip install qiskit\n",
        "!pip install qiskit[visualization]\n",
        "!pip install qiskit_aer"
      ]
    },
    {
      "cell_type": "code",
      "source": [
        "!pip list | grep qiskit"
      ],
      "metadata": {
        "colab": {
          "base_uri": "https://localhost:8080/"
        },
        "id": "ZCfdDvxomJaQ",
        "outputId": "bce1aa47-6e1d-4706-e9f3-35bce78f8b2b"
      },
      "execution_count": 16,
      "outputs": [
        {
          "output_type": "stream",
          "name": "stdout",
          "text": [
            "qiskit                                2.0.2\n",
            "qiskit-aer                            0.17.1\n"
          ]
        }
      ]
    },
    {
      "cell_type": "markdown",
      "source": [
        "# 1. Basic building blocks\n",
        "## 1.1. Quantum circuits"
      ],
      "metadata": {
        "id": "daOknfHO6ztY"
      }
    },
    {
      "cell_type": "code",
      "source": [
        "from qiskit import QuantumCircuit\n",
        "# Create quantum circuit with 3 qubits and 3 classical bits\n",
        "# (we'll explain why we need the classical bits later)\n",
        "qc = QuantumCircuit(3, 3)\n",
        "qc.draw(output='mpl')  # returns a drawing of the circuit"
      ],
      "metadata": {
        "colab": {
          "base_uri": "https://localhost:8080/",
          "height": 320
        },
        "id": "WB-QAJ4UuZZr",
        "outputId": "3957ac2b-61c8-4c76-e680-88e67982910c"
      },
      "execution_count": 17,
      "outputs": [
        {
          "output_type": "execute_result",
          "data": {
            "text/plain": [
              "<Figure size 162.08x367.889 with 1 Axes>"
            ],
            "image/png": "[encoded data removed]"
          },
          "metadata": {},
          "execution_count": 17
        }
      ]
    },
    {
      "cell_type": "markdown",
      "source": [
        "## 1.2. Quantum Measurement\n"
      ],
      "metadata": {
        "id": "VeteskzcSA_8"
      }
    },
    {
      "cell_type": "code",
      "source": [
        "qc = QuantumCircuit(3, 3)\n",
        "qc.barrier()\n",
        "# measure qubits 0, 1 & 2 to classical bits 0, 1 & 2 respectively\n",
        "qc.measure([0,1,2], [0,1,2])\n",
        "qc.draw(output='mpl')"
      ],
      "metadata": {
        "colab": {
          "base_uri": "https://localhost:8080/",
          "height": 320
        },
        "id": "8adk054ncjPx",
        "outputId": "1cb6b617-beca-489f-f7c0-ea6f3c7f8535"
      },
      "execution_count": 18,
      "outputs": [
        {
          "output_type": "execute_result",
          "data": {
            "text/plain": [
              "<Figure size 454.719x367.889 with 1 Axes>"
            ],
            "image/png": "[encoded data removed]"
          },
          "metadata": {},
          "execution_count": 18
        }
      ]
    },
    {
      "cell_type": "markdown",
      "source": [
        "# 1.3. Perform a quantum computation for a given quantum circuit"
      ],
      "metadata": {
        "id": "1igBinTHSHoS"
      }
    },
    {
      "cell_type": "code",
      "source": [
        "def perform_quantum_computation(qc: QuantumCircuit, num_of_shots: int=1024):\n",
        "\n",
        "  from qiskit_aer import AerSimulator\n",
        "  from qiskit import transpile\n",
        "\n",
        "  # Create simulator\n",
        "  sim = AerSimulator()\n",
        "\n",
        "  # Transpile and run\n",
        "  # transpile() optimizes and converts a quantum circuit to be compatible\n",
        "  # with a specific backend (like a simulator or real quantum hardware).\n",
        "  # It adapts the circuit to the gate set and topology of the backend.\n",
        "  transpiled_circuit = transpile(qc, sim)\n",
        "  result = sim.run(transpiled_circuit, shots=num_of_shots).result()\n",
        "\n",
        "  # Get counts\n",
        "  counts = result.get_counts()\n",
        "  print(counts)\n",
        "\n",
        "\n",
        "perform_quantum_computation(qc)"
      ],
      "metadata": {
        "colab": {
          "base_uri": "https://localhost:8080/"
        },
        "id": "f9n_zzv6dJsp",
        "outputId": "47882268-8654-44a7-cc56-57002b5bde98"
      },
      "execution_count": 45,
      "outputs": [
        {
          "output_type": "stream",
          "name": "stdout",
          "text": [
            "{'0': 517, '1': 507}\n"
          ]
        }
      ]
    },
    {
      "cell_type": "markdown",
      "source": [
        "## 1.4.Encoding an input with the NOT-gate\n"
      ],
      "metadata": {
        "id": "pIQb_4wVe6vj"
      }
    },
    {
      "cell_type": "code",
      "source": [
        "# Create quantum circuit with 3 qubits and 3 classical bits:\n",
        "qc = QuantumCircuit(3, 3)\n",
        "qc.x(0)  # Perform X-gates on qubits 0 & 1\n",
        "qc.x(1)  # Perform X-gates on qubits 0 & 1\n",
        "qc.barrier()\n",
        "qc.measure([0,1,2], [0,1,2])\n",
        "qc.draw(output='mpl')    # retu"
      ],
      "metadata": {
        "colab": {
          "base_uri": "https://localhost:8080/",
          "height": 320
        },
        "id": "gewWd9xOe5aY",
        "outputId": "40bf6b5d-f8f6-4616-a13b-b4824daf5033"
      },
      "execution_count": 20,
      "outputs": [
        {
          "output_type": "execute_result",
          "data": {
            "text/plain": [
              "<Figure size 538.33x367.889 with 1 Axes>"
            ],
            "image/png": "[encoded data removed]"
          },
          "metadata": {},
          "execution_count": 20
        }
      ]
    },
    {
      "cell_type": "code",
      "source": [
        "# perform computation\n",
        "perform_quantum_computation(qc)"
      ],
      "metadata": {
        "colab": {
          "base_uri": "https://localhost:8080/"
        },
        "id": "3x5PCkoYfmm4",
        "outputId": "a3da033e-e51d-4b49-a97a-c257e2ec5ffa"
      },
      "execution_count": 21,
      "outputs": [
        {
          "output_type": "stream",
          "name": "stdout",
          "text": [
            "{'011': 1024}\n"
          ]
        }
      ]
    },
    {
      "cell_type": "markdown",
      "source": [
        "# 2. Superposition"
      ],
      "metadata": {
        "id": "xbpEfJeX6Jnm"
      }
    },
    {
      "cell_type": "code",
      "source": [
        "# Step 1: Create a quantum circuit with 2 qubits and 2 classical bits\n",
        "qc = QuantumCircuit(1, 1)\n",
        "\n",
        "# Step 2: Apply Hadamard gate to qubit 0 to create superposition\n",
        "qc.h(0)\n",
        "\n",
        "# Step 4: Measure both qubits\n",
        "qc.measure([0], [0])"
      ],
      "metadata": {
        "colab": {
          "base_uri": "https://localhost:8080/"
        },
        "id": "IF03-sQ4XwZa",
        "outputId": "b928beb0-c451-4c37-c979-ea783a03849f"
      },
      "execution_count": 46,
      "outputs": [
        {
          "output_type": "execute_result",
          "data": {
            "text/plain": [
              "<qiskit.circuit.instructionset.InstructionSet at 0x7ae1c5df3fa0>"
            ]
          },
          "metadata": {},
          "execution_count": 46
        }
      ]
    },
    {
      "cell_type": "code",
      "source": [
        "# perform computation\n",
        "perform_quantum_computation(qc, num_of_shots=2048)"
      ],
      "metadata": {
        "colab": {
          "base_uri": "https://localhost:8080/"
        },
        "id": "YOJcw1zFXr4t",
        "outputId": "ba4a03d7-3922-49e1-e417-eb3bea2a62ba"
      },
      "execution_count": 51,
      "outputs": [
        {
          "output_type": "stream",
          "name": "stdout",
          "text": [
            "{'0': 1026, '1': 1022}\n"
          ]
        }
      ]
    },
    {
      "cell_type": "markdown",
      "source": [
        "# 3. Entanglement\n",
        "## 3.1. The controlled NOT gate (CNOT-gate)\n"
      ],
      "metadata": {
        "id": "ssFFP1JMgYa3"
      }
    },
    {
      "cell_type": "code",
      "source": [
        "# Create quantum circuit with 2 qubits and 2 classical bits\n",
        "qc = QuantumCircuit(2, 2)\n",
        "qc.x(0)\n",
        "qc.cx(0,1)  # CNOT controlled by qubit 0 and targeting qubit 1\n",
        "qc.measure([0,1], [0,1])\n",
        "qc.draw(output='mpl')     # display a drawing of the circuit"
      ],
      "metadata": {
        "colab": {
          "base_uri": "https://localhost:8080/",
          "height": 255
        },
        "id": "_hAL6kPIgRi6",
        "outputId": "19cf0f45-26fc-4dfc-8b95-e3b8eb88c1fb"
      },
      "execution_count": 22,
      "outputs": [
        {
          "output_type": "execute_result",
          "data": {
            "text/plain": [
              "<Figure size 454.517x284.278 with 1 Axes>"
            ],
            "image/png": "[encoded data removed]"
          },
          "metadata": {},
          "execution_count": 22
        }
      ]
    },
    {
      "cell_type": "code",
      "source": [
        "perform_quantum_computation(qc)"
      ],
      "metadata": {
        "colab": {
          "base_uri": "https://localhost:8080/"
        },
        "id": "b-Y1-ijxkZS2",
        "outputId": "2a385b8e-1b33-46d6-8526-a8bdce1c5338"
      },
      "execution_count": 13,
      "outputs": [
        {
          "output_type": "stream",
          "name": "stdout",
          "text": [
            "{'011': 1024}\n"
          ]
        }
      ]
    },
    {
      "cell_type": "markdown",
      "source": [
        "## 3.2. Entangle Bell state"
      ],
      "metadata": {
        "id": "Aq9V5hcqZpRq"
      }
    },
    {
      "cell_type": "code",
      "source": [
        "# Step 1: Create a quantum circuit with 2 qubits and 2 classical bits\n",
        "qc = QuantumCircuit(2, 2)\n",
        "\n",
        "# qc.x(0)\n",
        "\n",
        "# Step 2: Apply Hadamard gate to qubit 0 to create superposition\n",
        "qc.h(0)\n",
        "\n",
        "# Step 3: Apply CNOT gate to entangle qubit 0 with qubit 1\n",
        "qc.cx(0, 1)\n",
        "\n",
        "# Step 4: Measure both qubits\n",
        "qc.measure([0, 1], [0, 1])"
      ],
      "metadata": {
        "colab": {
          "base_uri": "https://localhost:8080/"
        },
        "id": "55_YO59qU0zc",
        "outputId": "3a0293f5-03ef-4cfa-ddf0-b875d0b99899"
      },
      "execution_count": 36,
      "outputs": [
        {
          "output_type": "execute_result",
          "data": {
            "text/plain": [
              "<qiskit.circuit.instructionset.InstructionSet at 0x7ae1c5f77730>"
            ]
          },
          "metadata": {},
          "execution_count": 36
        }
      ]
    },
    {
      "cell_type": "code",
      "source": [
        "# perform computation\n",
        "perform_quantum_computation(qc)"
      ],
      "metadata": {
        "colab": {
          "base_uri": "https://localhost:8080/"
        },
        "id": "VMnxJCMXW5GW",
        "outputId": "a415c24c-7707-4c8b-95c2-d031560ee738"
      },
      "execution_count": 52,
      "outputs": [
        {
          "output_type": "stream",
          "name": "stdout",
          "text": [
            "{'0': 539, '1': 485}\n"
          ]
        }
      ]
    },
    {
      "cell_type": "markdown",
      "source": [
        "# 4. Interference"
      ],
      "metadata": {
        "id": "wA85aU1plpoU"
      }
    },
    {
      "cell_type": "code",
      "source": [
        "qc = QuantumCircuit(1, 1)\n",
        "\n",
        "# Create superposition\n",
        "qc.h(0)\n",
        "# Apply H again to cause interference\n",
        "qc.h(0)\n",
        "qc.measure(0, 0)"
      ],
      "metadata": {
        "colab": {
          "base_uri": "https://localhost:8080/"
        },
        "id": "WpXHLR7_lowt",
        "outputId": "7376986d-dc0e-42a3-a243-01131a3ac6f8"
      },
      "execution_count": 53,
      "outputs": [
        {
          "output_type": "execute_result",
          "data": {
            "text/plain": [
              "<qiskit.circuit.instructionset.InstructionSet at 0x7ae1c5dc3bb0>"
            ]
          },
          "metadata": {},
          "execution_count": 53
        }
      ]
    },
    {
      "cell_type": "code",
      "source": [
        "# perform computation\n",
        "perform_quantum_computation(qc)"
      ],
      "metadata": {
        "colab": {
          "base_uri": "https://localhost:8080/"
        },
        "id": "XDyRmUHNlyGy",
        "outputId": "09df3400-2ee8-4cfa-a60f-e70b8843e514"
      },
      "execution_count": 54,
      "outputs": [
        {
          "output_type": "stream",
          "name": "stdout",
          "text": [
            "{'0': 1024}\n"
          ]
        }
      ]
    },
    {
      "cell_type": "markdown",
      "source": [
        "# Creating a half adder circuit with a Toffoli-gate (CCNOT-gate)\n",
        "\n",
        "\n",
        "\n",
        "![7.svg](data:image/svg+xml;base64,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)\n",
        "\n"
      ],
      "metadata": {
        "id": "J06LTq4GkIAM"
      }
    },
    {
      "cell_type": "code",
      "source": [
        "half_adder_qc = QuantumCircuit(4, 2)\n",
        "\n",
        "# First, our circuit should encode an input (here '11')\n",
        "half_adder_qc.x(0)\n",
        "half_adder_qc.x(1)\n",
        "half_adder_qc.barrier()\n",
        "\n",
        "# Next, it should carry out the adder circuit we created\n",
        "half_adder_qc.cx(0,2)\n",
        "half_adder_qc.cx(1,2)\n",
        "half_adder_qc.ccx(0,1,3)\n",
        "half_adder_qc.barrier()\n",
        "\n",
        "# Finally, we will measure the bottom two qubits to extract the output\n",
        "half_adder_qc.measure(2,0)\n",
        "half_adder_qc.measure(3,1)\n",
        "half_adder_qc.draw(output='mpl')"
      ],
      "metadata": {
        "colab": {
          "base_uri": "https://localhost:8080/",
          "height": 384
        },
        "id": "iP7dsj_NlDWA",
        "outputId": "3b0c598e-015f-4487-ff5d-054077169acd"
      },
      "execution_count": 31,
      "outputs": [
        {
          "output_type": "execute_result",
          "data": {
            "text/plain": [
              "<Figure size 789.163x451.5 with 1 Axes>"
            ],
            "image/png": "[encoded data removed]"
          },
          "metadata": {},
          "execution_count": 31
        }
      ]
    },
    {
      "cell_type": "code",
      "source": [
        "perform_quantum_computation(half_adder_qc)"
      ],
      "metadata": {
        "colab": {
          "base_uri": "https://localhost:8080/"
        },
        "id": "urH6uNJuk5lm",
        "outputId": "b5c25d3f-ffa0-47f1-9a7c-7cbfc11fc3aa"
      },
      "execution_count": 32,
      "outputs": [
        {
          "output_type": "stream",
          "name": "stdout",
          "text": [
            "{'10': 1024}\n"
          ]
        }
      ]
    }
  ]
}